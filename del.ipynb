{
 "cells": [
  {
   "cell_type": "code",
   "execution_count": 1,
   "metadata": {},
   "outputs": [],
   "source": [
    "import torch \n",
    "from dataset import Pic_to_Pic_dataset\n",
    "from models import UNET\n",
    "from torch.utils.data import DataLoader\n",
    "from loss import SSIM_DICE_BCE, DiceScore\n",
    "import matplotlib.pyplot as plt\n",
    "import numpy as np\n",
    "import pandas as pd \n",
    "from PIL import Image \n",
    "from torchvision.transforms import ToTensor\n",
    "import os \n",
    "from tqdm import tqdm \n",
    "import cv2"
   ]
  },
  {
   "cell_type": "code",
   "execution_count": 2,
   "metadata": {},
   "outputs": [
    {
     "name": "stderr",
     "output_type": "stream",
     "text": [
      "/home/shivac/anaconda3/lib/python3.11/site-packages/torch/nn/modules/conv.py:456: UserWarning: Plan failed with a cudnnException: CUDNN_BACKEND_EXECUTION_PLAN_DESCRIPTOR: cudnnFinalize Descriptor Failed cudnn_status: CUDNN_STATUS_NOT_SUPPORTED (Triggered internally at ../aten/src/ATen/native/cudnn/Conv_v8.cpp:919.)\n",
      "  return F.conv2d(input, weight, bias, self.stride,\n"
     ]
    }
   ],
   "source": [
    "model = UNET().cuda()\n",
    "ckpt = torch.load('./ckpts/quantum_noise/56/best_unet.pth') \n",
    "model.load_state_dict(ckpt['model_state'])\n",
    "dice_score = DiceScore()\n"
   ]
  },
  {
   "cell_type": "code",
   "execution_count": 4,
   "metadata": {},
   "outputs": [
    {
     "name": "stderr",
     "output_type": "stream",
     "text": [
      "100%|██████████| 301/301 [00:59<00:00,  5.06it/s]\n"
     ]
    }
   ],
   "source": [
    "df = pd.read_csv('/home/shivac/qml-data/csv_files/val_10_org.csv') \n",
    "patient_ids = np.unique(df.patient_id)\n",
    "patient_id = np.random.choice(patient_ids, 1)[0]\n",
    "df = df[df.patient_id == patient_id].sort_values('idx')\n",
    "df.reset_index(inplace=True)\n",
    "os.makedirs('plots/{}'.format(patient_id), exist_ok=True)\n",
    "for i in tqdm(range(len(df))): \n",
    "    img_path = '/home/shivac/qml-data/' + df.loc[i].img_path\n",
    "    mask_path = '/home/shivac/qml-data/' + df.loc[i].mask_path\n",
    "    img = Image.open(img_path).convert('L')\n",
    "    mask = Image.open(mask_path) \n",
    "    mask = ToTensor()(mask).unsqueeze(0)\n",
    "    img = ToTensor()(img).unsqueeze(0)\n",
    "    logits = model(img.cuda())\n",
    "    dice = round(dice_score(mask.cuda(), logits).item(), 2)\n",
    "\n",
    "    plt.figure(figsize=(10, 6), facecolor='gray')\n",
    "    plt.axis('off')\n",
    "    plt.title('Depth: ' + str(i) + ' dice_score: ' + str(dice))\n",
    "    plt.subplot(1,3,1)\n",
    "    plt.title('img')\n",
    "    plt.axis('off')\n",
    "    plt.imshow(img[0].permute(1,2,0), cmap='gray')\n",
    "    plt.subplot(1,3,2)\n",
    "    plt.title('mask')\n",
    "    plt.axis('off')\n",
    "    plt.imshow(mask[0].permute(1,2,0), cmap='gray')\n",
    "    plt.subplot(1,3,3)\n",
    "    plt.title('logits')\n",
    "    plt.axis('off')\n",
    "    plt.imshow(logits[0].detach().cpu().permute(1,2,0), cmap='gray')\n",
    "    # plt.tight_layout()\n",
    "    plt.savefig('plots/{}/{}.png'.format(patient_id, i))\n",
    "    plt.clf() \n",
    "    plt.close()\n",
    "    \n",
    "    \n"
   ]
  },
  {
   "cell_type": "code",
   "execution_count": 5,
   "metadata": {},
   "outputs": [
    {
     "name": "stderr",
     "output_type": "stream",
     "text": [
      "100%|██████████| 301/301 [00:03<00:00, 100.04it/s]\n"
     ]
    }
   ],
   "source": [
    "def imgs_to_vid(path): \n",
    "    imgs = os.listdir(path)\n",
    "    imgs = [os.path.join(path, img) for img in imgs if img.endswith('.png')]\n",
    "    imgs = sorted(imgs, key=lambda x: int(x.split('/')[-1].split('.')[0]))\n",
    "    img = cv2.imread(imgs[6])\n",
    "    os.makedirs('{}/'.format(path), exist_ok=True)\n",
    "    video = cv2.VideoWriter('{}/vid.mp4'.format(path), cv2.VideoWriter_fourcc(*'mp4v'), 10, (img.shape[1], img.shape[0]))\n",
    "\n",
    "    for img_path in tqdm(imgs): \n",
    "        if not img_path.endswith('.png'): \n",
    "            continue\n",
    "        img = cv2.imread(img_path)\n",
    "        video.write(img)       \n",
    "    video.release()\n",
    "    os.system('rm ./plots/{}/*.png'.format(patient_id))\n",
    "\n",
    "imgs_to_vid('./plots/{}/'.format(patient_id))"
   ]
  },
  {
   "cell_type": "code",
   "execution_count": 6,
   "metadata": {},
   "outputs": [
    {
     "data": {
      "text/plain": [
       "'MEDVID0078_M_20211227_100035_0001_IMAGES'"
      ]
     },
     "execution_count": 6,
     "metadata": {},
     "output_type": "execute_result"
    }
   ],
   "source": [
    "patient_id"
   ]
  },
  {
   "cell_type": "code",
   "execution_count": null,
   "metadata": {},
   "outputs": [],
   "source": []
  }
 ],
 "metadata": {
  "kernelspec": {
   "display_name": "base",
   "language": "python",
   "name": "python3"
  },
  "language_info": {
   "codemirror_mode": {
    "name": "ipython",
    "version": 3
   },
   "file_extension": ".py",
   "mimetype": "text/x-python",
   "name": "python",
   "nbconvert_exporter": "python",
   "pygments_lexer": "ipython3",
   "version": "3.1.undefined"
  }
 },
 "nbformat": 4,
 "nbformat_minor": 2
}
